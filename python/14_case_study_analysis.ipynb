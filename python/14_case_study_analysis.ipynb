{
 "cells": [
  {
   "cell_type": "code",
   "execution_count": 1,
   "metadata": {
    "collapsed": false
   },
   "outputs": [],
   "source": [
    "from pyspark import SparkContext, SparkConf\n",
    "import sys\n",
    "from utility_code.util import *\n",
    "import glob\n",
    "from operator import add\n",
    "import logging\n",
    "logging.basicConfig(format='%(asctime)s : %(levelname)s : %(message)s', level=logging.INFO)\n",
    "from gensim import corpora, models, similarities\n",
    "from collections import Counter\n",
    "import utility_code.dependency_parse_object as dpo\n",
    "from gensim.matutils import corpus2csc\n",
    "import msgpack\n",
    "\n",
    "%matplotlib inline\n",
    "import pandas as pd\n",
    "import matplotlib as mpl\n",
    "import matplotlib.pyplot as plt\n",
    "import seaborn as sns\n",
    "\n",
    "import cPickle as pickle\n",
    "from gensim import corpora, models, similarities\n",
    "\n",
    "from urllib2 import Request, urlopen, URLError\n",
    "\n",
    "import msgpack\n",
    "from vaderSentiment.vaderSentiment import sentiment\n",
    "\n",
    "sns.set()\n",
    "\n",
    "all_files =glob.glob(\"../analysis/fin_conll_analysis/*\")\n"
   ]
  },
  {
   "cell_type": "code",
   "execution_count": 48,
   "metadata": {
    "collapsed": true
   },
   "outputs": [],
   "source": [
    "def get_identities(line):\n",
    "    to_ret = []\n",
    "    identities = [dpo.DependencyParseObject(o, do_lemmatize=False) \n",
    "                      for o in line if o.split(\"\\t\")[-1] == \"Identity\"]\n",
    "    i = 0\n",
    "    while i < len(identities):\n",
    "        text = get_cleaned_text(identities[i].singular_form.lower()).replace(\"#\",\"\")\n",
    "        while i < len(identities)-1 and identities[i+1].id == identities[i].id+1:\n",
    "            text += \"_\" + get_cleaned_text(identities[i+1].singular_form.lower()).replace(\"#\",\"\")\n",
    "            i += 1\n",
    "        to_ret.append(text)\n",
    "        i +=1\n",
    "    return [(x,1) for x in to_ret]\n",
    "\n",
    "def get_loc_data():\n",
    "\n",
    "    full_uid_to_county = pickle.load(open(\"../analysis/country_state_to_uid.p\",\"rb\"))\n",
    "    uids_to_county = {}\n",
    "    c =0\n",
    "    for a in all_files:\n",
    "        uid = int(a.replace(\"../analysis/fin_conll_analysis/\",\"\").replace(\".txt.gz\",\"\"))\n",
    "        if uid in full_uid_to_county:\n",
    "            c+=1\n",
    "            uids_to_county[uid] = full_uid_to_county[uid]\n",
    "    print 'n geotagged users: ', c\n",
    "    fields_of_interest = ['B01003_001E','B01001_002E','B01001_026E','B02001_002E','B02001_003E','B01002_001E',\n",
    "                          'B19001_001E','B19013_001E','B03003_002E','B03003_003E','B19083_001E',\n",
    "                          'B19301_001E','B19301H_001E','B19301B_001E','B19301I_001E','B23025_002E','B23025_007E']\n",
    "\n",
    "    q = \"http://api.census.gov/data/2013/acs5?get=NAME,{params}&for=county:*&key={key}\".format(\n",
    "                params=\",\".join(fields_of_interest),key='a6e317918af5d4097d792cabd992f41f2691b75e')\n",
    "    response = urlopen(q)\n",
    "    kittens = eval(response.read().replace(\"null\",\"None\"))\n",
    "    headers = kittens.pop(0)\n",
    "    #for i in range(0,len(descs)):\n",
    "        #headers[i] = headers[i]+' - '+descs[i]\n",
    "    #headers = zip(headers,descs)\n",
    "    df = pd.DataFrame(kittens,columns=headers)\n",
    "    df[fields_of_interest]=df[fields_of_interest].astype('float')\n",
    "\n",
    "    df.columns =  ['county_name','total_pop','male_pop','female_pop','white_pop','black_pop','med_age',\n",
    "                           'n_home','med_income','not_hisp_pop','hisp_pop','gini',\n",
    "                           'per_cap_inc','per_cap_white','per_cap_black','per_cap_hisp','tot_in_lab','tot_not_in_lab','state','county']\n",
    "\n",
    "    state_to_abbrev = {x.strip().split(\"\\t\")[1]:x.split(\"\\t\")[0] for x in open(\"../analysis/state_abbrev.tsv\",\"r\")}\n",
    "    state_to_abbrev['DC'] = 'District of Columbia'\n",
    "    state_to_abbrev['PR'] = 'Puerto Rico'\n",
    "    \n",
    "    x = pd.DataFrame([(x[0],x[1][0]+ \", \" + state_to_abbrev[x[1][1]]) for x in uids_to_county.items()])\n",
    "    x.columns = ['uid','vname']\n",
    "    full_loc_dat = pd.merge(x,df,left_on='vname',right_on='county_name')\n",
    "    full_loc_dat['b_percent'] = full_loc_dat.black_pop/full_loc_dat.total_pop\n",
    "    full_loc_dat.sort(columns=\"b_percent\",inplace=True,ascending=False)\n",
    "    return full_loc_dat"
   ]
  },
  {
   "cell_type": "code",
   "execution_count": 40,
   "metadata": {
    "collapsed": true
   },
   "outputs": [],
   "source": [
    "conf = (SparkConf()\n",
    "     .setMaster(\"local[*]\")\n",
    "     .setAppName(\"My app\")\n",
    "     .set(\"spark.driver.maxResultSize\", \"70g\"))\n",
    "sc = SparkContext(conf=conf)\n"
   ]
  },
  {
   "cell_type": "code",
   "execution_count": 44,
   "metadata": {
    "collapsed": true
   },
   "outputs": [],
   "source": [
    "only_identity_tweets = sc.parallelize(all_files, 64).flatMap(read_grouped_by_newline_file)"
   ]
  },
  {
   "cell_type": "code",
   "execution_count": 4,
   "metadata": {
    "collapsed": false
   },
   "outputs": [
    {
     "name": "stdout",
     "output_type": "stream",
     "text": [
      "N total tweets:  45448604  Total terms:  855462036\n"
     ]
    }
   ],
   "source": [
    "## get some stats on all tweets\n",
    "\n",
    "n_tweets = only_identity_tweets.count()\n",
    "total_terms = only_identity_tweets.map(lambda x: len(x)).reduce(add)\n",
    "print 'N total tweets: ', n_tweets, ' Total terms: ', total_terms"
   ]
  },
  {
   "cell_type": "code",
   "execution_count": 106,
   "metadata": {
    "collapsed": false
   },
   "outputs": [],
   "source": [
    "# collect identity counts\n",
    "identities = only_identity_tweets.flatMap(get_identities).reduceByKey(add).collect()"
   ]
  },
  {
   "cell_type": "code",
   "execution_count": 108,
   "metadata": {
    "collapsed": false
   },
   "outputs": [
    {
     "name": "stdout",
     "output_type": "stream",
     "text": [
      " total identities:  54242490.0\n",
      "girl 0.058047224602\n",
      "guy 0.0578001489238\n",
      "friend 0.0515115917429\n",
      "kid 0.0322996234133\n",
      "woman 0.0310493120799\n",
      "nigga 0.0274180075435\n",
      "mom 0.0248451352436\n",
      "fan 0.0232287824545\n",
      "dude 0.0161952742214\n",
      "child 0.0156884390816\n",
      "dad 0.0146144102161\n",
      "lady 0.01366884153\n",
      "brother 0.0135526595479\n",
      "bitch 0.0131788566491\n",
      "player 0.0124496312761\n",
      "boy 0.0116356937154\n",
      "sister 0.00972665524757\n",
      "student 0.00957389677354\n",
      "police 0.00903929742163\n",
      "parent 0.00860784598937\n",
      "cop 0.00843097357809\n",
      "president 0.00804362041639\n",
      "teacher 0.00756982210809\n",
      "black 0.00728961741985\n",
      "wife 0.00717651420501\n",
      "143428\n"
     ]
    },
    {
     "data": {
      "text/plain": [
       "<matplotlib.collections.PathCollection at 0x7f6afee58950>"
      ]
     },
     "execution_count": 108,
     "metadata": {},
     "output_type": "execute_result"
    },
    {
     "data": {
      "image/png": "[encoded data removed]",
      "text/plain": [
       "<matplotlib.figure.Figure at 0x7f6b316a96d0>"
      ]
     },
     "metadata": {},
     "output_type": "display_data"
    }
   ],
   "source": [
    "# plot identity distribution, get most frequent identities\n",
    "identities_counter = Counter()\n",
    "total_identities = 0\n",
    "for x in identities:\n",
    "    identities_counter[x[0]] += x[1]\n",
    "    total_identities += x[1]\n",
    "total_identites = float(total_identities)\n",
    "\n",
    "print 'total identities: ', total_identites#, ' proportion: ', total_identites/total_terms\n",
    "for x in identities_counter.most_common(25):\n",
    "    print x[0],  float(x[1])/total_identities\n",
    "print len(identities_counter)\n",
    "\n",
    "pdf_data = Counter()\n",
    "for x in identities_counter.items():\n",
    "    pdf_data[x[1]] += 1\n",
    "    \n",
    "pdf_data = np.array(pdf_data.items())\n",
    "\n",
    "plt.yscale(\"log\")\n",
    "plt.xscale('log')\n",
    "plt.scatter(pdf_data[:,0],pdf_data[:,1])\n"
   ]
  },
  {
   "cell_type": "code",
   "execution_count": 10,
   "metadata": {
    "collapsed": true
   },
   "outputs": [],
   "source": [
    "pdf_dat_df = pd.DataFrame(pdf_data)\n",
    "pdf_dat_df.to_csv(\"results/pdf_identities.csv\")"
   ]
  },
  {
   "cell_type": "code",
   "execution_count": 13,
   "metadata": {
    "collapsed": false
   },
   "outputs": [],
   "source": [
    "# get per-user identities\n",
    "def get_identities_with_uid_key(line):\n",
    "    identities = [x[0] for x in get_identities(line)]\n",
    "    if len(identities):\n",
    "        uid = dpo.DependencyParseObject(line[0], do_lemmatize=False).dataset\n",
    "        return  (uid, identities)\n",
    "    else:\n",
    "        return [None, []]\n",
    "\n",
    "per_uid_data = only_identity_tweets.map(get_identities_with_uid_key).reduceByKey(add).collect()\n",
    "# dump results out to file\n",
    "msgpack.dump(per_uid_data, open(\"../analysis/identity_per_user.mpack\",\"wb\"))"
   ]
  },
  {
   "cell_type": "code",
   "execution_count": 15,
   "metadata": {
    "collapsed": false
   },
   "outputs": [
    {
     "name": "stdout",
     "output_type": "stream",
     "text": [
      "68.0\n"
     ]
    },
    {
     "data": {
      "text/plain": [
       "<matplotlib.axes._subplots.AxesSubplot at 0x7f4d483a2550>"
      ]
     },
     "execution_count": 15,
     "metadata": {},
     "output_type": "execute_result"
    },
    {
     "data": {
      "image/png": "[encoded data removed]",
      "text/plain": [
       "<matplotlib.figure.Figure at 0x7f4d482ade10>"
      ]
     },
     "metadata": {},
     "output_type": "display_data"
    }
   ],
   "source": [
    "# get some basic stats here for the per user stuff\n",
    "usage_counts = []\n",
    "uid_dict = {}\n",
    "for k, v in per_uid_data:\n",
    "    uid_dict[k] = v\n",
    "    usage_counts.append([len(v),len(set(v))])\n",
    "    \n",
    "df = pd.DataFrame(usage_counts)\n",
    "df.columns = ['tot','uniq']\n",
    "df.sort(columns='uniq',inplace=True,ascending=False)\n",
    "print df.uniq.median()\n",
    "df.head(10)\n",
    "\n",
    "f, ax = plt.subplots(figsize=(7, 7))\n",
    "#ax.set(xscale=\"log\")\n",
    "#plt.xlim([1,1000])\n",
    "sns.distplot(df.uniq,ax=ax,kde=False)"
   ]
  },
  {
   "cell_type": "code",
   "execution_count": 18,
   "metadata": {
    "collapsed": true
   },
   "outputs": [],
   "source": [
    "df.to_csv(\"../python/results/per_user_identity_counts.csv\")"
   ]
  },
  {
   "cell_type": "code",
   "execution_count": 119,
   "metadata": {
    "collapsed": false
   },
   "outputs": [
    {
     "name": "stdout",
     "output_type": "stream",
     "text": [
      "n texts:  161436\n",
      "Dictionary(137327 unique tokens: [u'', u'fawn', u'aunt_pol', u'female_child', u'liberal_a-hole']...)\n",
      "Dictionary(4293 unique tokens: [u'gatekeeper', u'pedophile', u'islander_fan', u'saver', u'vermin']...)\n"
     ]
    }
   ],
   "source": [
    "# set up the dictionary for the lda \n",
    "\n",
    "texts_for_lda = [x[1] for x in per_uid_data if len(set(x[1]))> 50]\n",
    "\n",
    "print 'n texts: ', len(texts_for_lda)\n",
    "# run bipartite clustering?\n",
    "dictionary = corpora.Dictionary(texts_for_lda)\n",
    "print dictionary\n",
    "dictionary.filter_extremes(no_below=100)\n",
    "print dictionary\n",
    "corpus = [dictionary.doc2bow(text) for text in texts_for_lda]\n"
   ]
  },
  {
   "cell_type": "code",
   "execution_count": null,
   "metadata": {
    "collapsed": true
   },
   "outputs": [],
   "source": [
    "# run the LDA\n",
    "lda = models.ldamodel.LdaModel(corpus, num_topics=30, alpha='auto', id2word=dictionary,iterations=1000)\n",
    "msgpack.dump(top,open(\"../analysis/lda_mod.mpack\",\"wb\"))\n",
    "lda.save(\"../analysis/lda_model.lda\")"
   ]
  },
  {
   "cell_type": "code",
   "execution_count": null,
   "metadata": {
    "collapsed": true
   },
   "outputs": [],
   "source": [
    "# save this out for semantic coherence\n",
    "top = lda.top_topics(corpus,10)\n",
    "for x in top:\n",
    "    print x[1],x[0][0][1]"
   ]
  },
  {
   "cell_type": "code",
   "execution_count": 14,
   "metadata": {
    "collapsed": false
   },
   "outputs": [],
   "source": [
    "# load cached LDA, write out results\n",
    "\n",
    "lda = models.ldamodel.LdaModel.load(\"../analysis/lda_model.lda\")\n",
    "\n",
    "lda_data = []\n",
    "for i,t in enumerate(lda.show_topics(30, num_words=20, formatted=False)):\n",
    "    for x in t:\n",
    "        lda_data.append([i, x[0],x[1]])\n",
    "        \n",
    "pd.DataFrame(lda_data).to_csv(\"../python/results/lda_results.csv\")\n",
    "\n",
    "# Load cached user -> identity matrix\n",
    "per_uid_data = msgpack.load( open(\"../analysis/identity_per_user.mpack\",\"rb\"))"
   ]
  },
  {
   "cell_type": "code",
   "execution_count": null,
   "metadata": {
    "collapsed": true
   },
   "outputs": [],
   "source": [
    "# get geotagged data\n",
    "full_loc_dat = get_loc_data()\n",
    "geo_tagged_uids = set(full_loc_dat.uid.tolist())"
   ]
  },
  {
   "cell_type": "code",
   "execution_count": 21,
   "metadata": {
    "collapsed": false
   },
   "outputs": [],
   "source": [
    "# loc stuff -> transition to nigga part\n",
    "def get_doc_topic(corpus, model): \n",
    "    doc_topic = list() \n",
    "    for i,doc in enumerate(corpus): \n",
    "        doc_topic.append(model.__getitem__(doc, eps=0)) \n",
    "    return doc_topic \n",
    "\n",
    "def get_vector_for_topic(top_data, top_num):\n",
    "    return [x[top_num][1] for x in top_data]\n",
    "\n",
    "test_for_space  = [dictionary.doc2bow(x[1]) for x in per_uid_data if int(x[0]) in geo_tagged_uids]\n",
    "test_for_space_uids = [x[0] for x in per_uid_data if int(x[0]) in geo_tagged_uids]\n",
    "top_data = get_doc_topic(test_for_space,lda)\n",
    "\n"
   ]
  },
  {
   "cell_type": "code",
   "execution_count": 61,
   "metadata": {
    "collapsed": false
   },
   "outputs": [],
   "source": [
    "# do racial comparisons\n",
    "for topic_num in range(30):\n",
    "    v_for_n = get_vector_for_topic(top_data,topic_num)\n",
    "    vn_space = pd.DataFrame(zip(test_for_space_uids,v_for_n))\n",
    "    vn_space.columns = ['uid','top_'+str(topic_num)+'_val']\n",
    "    vn_space['uid'] = vn_space.uid.astype(int)\n",
    "    loc_with_top = pd.merge(loc_with_top,vn_space, left_on='uid',right_on='uid')"
   ]
  },
  {
   "cell_type": "code",
   "execution_count": null,
   "metadata": {
    "collapsed": true
   },
   "outputs": [],
   "source": [
    "#sns.distplot(loc_with_top.b_percent)\n",
    "#sns.distplot(loc_with_top.nigga_use)"
   ]
  },
  {
   "cell_type": "code",
   "execution_count": 62,
   "metadata": {
    "collapsed": true
   },
   "outputs": [],
   "source": [
    "loc_with_top.to_csv(\"../python/results/spatial_lda_results.csv\")"
   ]
  },
  {
   "cell_type": "code",
   "execution_count": 46,
   "metadata": {
    "collapsed": false,
    "scrolled": true
   },
   "outputs": [],
   "source": [
    "## now move to affect stuff\n",
    "\n",
    "def get_tweet_info(line):\n",
    "    o = dpo.DependencyParseObject(line[0])\n",
    "    text = \" \".join([l.split(\"\\t\")[1] for l in line])\n",
    "    sent = sentiment(text)['compound']\n",
    "    date = o.is_reply\n",
    "    identities = get_identities(line)\n",
    "    return [o.tweet_id, sent,date, [i[0] for i in identities],o.dataset]\n",
    "\n",
    "#for line in read_grouped_by_newline_file(\"../analysis/fin_conll_analysis/310325693.txt.gz\"):\n",
    "#    print get_tweet_info(line)\n",
    "    \n",
    "tweet_identity_data = only_identity_tweets.map(get_tweet_info)\n",
    "\n",
    "#tweet_info = tweet_identity_data.collect()\n",
    "#msgpack.dump(tweet_info,open(\"../analysis/tweet_info.mpack\",\"wb\"))\n"
   ]
  },
  {
   "cell_type": "code",
   "execution_count": null,
   "metadata": {
    "collapsed": true
   },
   "outputs": [],
   "source": [
    "# identity usage per 1/4 month\n",
    "# get the things that modified police, rae identities\n",
    "# predict user location with per-user prediction"
   ]
  },
  {
   "cell_type": "code",
   "execution_count": 2,
   "metadata": {
    "collapsed": false
   },
   "outputs": [],
   "source": []
  },
  {
   "cell_type": "code",
   "execution_count": null,
   "metadata": {
    "collapsed": true
   },
   "outputs": [],
   "source": []
  },
  {
   "cell_type": "code",
   "execution_count": null,
   "metadata": {
    "collapsed": true
   },
   "outputs": [],
   "source": []
  },
  {
   "cell_type": "code",
   "execution_count": null,
   "metadata": {
    "collapsed": true
   },
   "outputs": [],
   "source": []
  },
  {
   "cell_type": "code",
   "execution_count": null,
   "metadata": {
    "collapsed": true
   },
   "outputs": [],
   "source": []
  },
  {
   "cell_type": "code",
   "execution_count": null,
   "metadata": {
    "collapsed": true
   },
   "outputs": [],
   "source": [
    "# Affective"
   ]
  },
  {
   "cell_type": "code",
   "execution_count": 49,
   "metadata": {
    "collapsed": false
   },
   "outputs": [],
   "source": [
    "#tweet_info = msgpack.load(open(\"../analysis/tweet_info.mpack\",\"rb\"))\n",
    "def get_identity_to_person_sent_mat(tweet_info_obj):\n",
    "    tweet_id, sentiment,date,identities,userid = tweet_info_obj\n",
    "    if sentiment == 0:\n",
    "        return []\n",
    "    else:\n",
    "        return [ ((i, userid), sentiment) for i in set(identities)]\n",
    "\n",
    "  \n",
    "sentiment_mat = tweet_identity_data.flatMap(get_identity_to_person_sent_mat).collect()\n",
    "msgpack.dump(sentiment_mat,open(\"../analysis/sentiment_mat.mpack\",\"wb\"))\n"
   ]
  },
  {
   "cell_type": "code",
   "execution_count": null,
   "metadata": {
    "collapsed": true
   },
   "outputs": [],
   "source": [
    "# get the sentiment matrix, reset \n",
    "\n",
    "## NOTE THIS SHOULD REALLY BE SENTIMENT_MAT but bug before when writing out\n",
    "#sentiment_mat = msgpack.load(open(\"../analysis/tweet_info.mpack\",\"rb\"))\n",
    "c = Counter()\n",
    "for i, s in enumerate(sentiment_mat):\n",
    "    c[\"_\".join(s[0])] += s[1]\n",
    "    \n",
    "dat = [x[0].rsplit(\"_\",1)+ [x[1]] for x in c.iteritems()]\n"
   ]
  },
  {
   "cell_type": "code",
   "execution_count": 53,
   "metadata": {
    "collapsed": false
   },
   "outputs": [
    {
     "name": "stdout",
     "output_type": "stream",
     "text": [
      "n texts:  161436\n",
      "Dictionary(137327 unique tokens: [u'', u'fawn', u'aunt_pol', u'female_child', u'liberal_a-hole']...)\n",
      "Dictionary(4293 unique tokens: [u'gatekeeper', u'pedophile', u'islander_fan', u'saver', u'vermin']...)\n"
     ]
    }
   ],
   "source": [
    "# only include the stuff from the lda\n",
    "lda = models.ldamodel.LdaModel.load(\"../analysis/lda_model.lda\")\n",
    "per_uid_data = msgpack.load( open(\"../analysis/identity_per_user.mpack\",\"rb\"))\n",
    "users_for_lda = set([int(x[0]) for x in per_uid_data if len(set(x[1]))> 50])\n",
    "\n",
    "texts_for_lda = [x[1] for x in per_uid_data if len(set(x[1]))> 50]\n",
    "print 'n texts: ', len(texts_for_lda)\n",
    "# run bipartite clustering?\n",
    "dictionary = corpora.Dictionary(texts_for_lda)\n",
    "print dictionary\n",
    "dictionary.filter_extremes(no_below=100)\n",
    "print dictionary\n",
    "\n"
   ]
  },
  {
   "cell_type": "code",
   "execution_count": 54,
   "metadata": {
    "collapsed": false
   },
   "outputs": [
    {
     "ename": "UnicodeEncodeError",
     "evalue": "'ascii' codec can't encode character u'\\xe9' in position 5: ordinal not in range(128)",
     "output_type": "error",
     "traceback": [
      "\u001b[1;31m---------------------------------------------------------------------------\u001b[0m",
      "\u001b[1;31mUnicodeEncodeError\u001b[0m                        Traceback (most recent call last)",
      "\u001b[1;32m<ipython-input-54-168f40b3c3de>\u001b[0m in \u001b[0;36m<module>\u001b[1;34m()\u001b[0m\n\u001b[0;32m      6\u001b[0m \u001b[0mdf\u001b[0m\u001b[1;33m[\u001b[0m\u001b[1;34m'uid'\u001b[0m\u001b[1;33m]\u001b[0m \u001b[1;33m=\u001b[0m \u001b[0mdf\u001b[0m\u001b[1;33m.\u001b[0m\u001b[0muid\u001b[0m\u001b[1;33m.\u001b[0m\u001b[0mastype\u001b[0m\u001b[1;33m(\u001b[0m\u001b[0mint\u001b[0m\u001b[1;33m)\u001b[0m\u001b[1;33m\u001b[0m\u001b[0m\n\u001b[0;32m      7\u001b[0m \u001b[0mdf\u001b[0m \u001b[1;33m=\u001b[0m \u001b[0mdf\u001b[0m\u001b[1;33m[\u001b[0m\u001b[0mdf\u001b[0m\u001b[1;33m.\u001b[0m\u001b[0muid\u001b[0m\u001b[1;33m.\u001b[0m\u001b[0mapply\u001b[0m\u001b[1;33m(\u001b[0m\u001b[1;32mlambda\u001b[0m \u001b[0mx\u001b[0m\u001b[1;33m:\u001b[0m \u001b[0mx\u001b[0m \u001b[1;32min\u001b[0m \u001b[0musers_for_lda\u001b[0m\u001b[1;33m)\u001b[0m\u001b[1;33m]\u001b[0m\u001b[1;33m\u001b[0m\u001b[0m\n\u001b[1;32m----> 8\u001b[1;33m \u001b[0mdf\u001b[0m\u001b[1;33m.\u001b[0m\u001b[0mto_csv\u001b[0m\u001b[1;33m(\u001b[0m\u001b[1;34m\"../analysis/raw_df.csv\"\u001b[0m\u001b[1;33m)\u001b[0m\u001b[1;33m\u001b[0m\u001b[0m\n\u001b[0m",
      "\u001b[1;32m/home/kjoseph/anaconda/lib/python2.7/site-packages/pandas/core/frame.pyc\u001b[0m in \u001b[0;36mto_csv\u001b[1;34m(self, path_or_buf, sep, na_rep, float_format, columns, header, index, index_label, mode, encoding, quoting, quotechar, line_terminator, chunksize, tupleize_cols, date_format, doublequote, escapechar, decimal, **kwds)\u001b[0m\n\u001b[0;32m   1187\u001b[0m                                      \u001b[0mescapechar\u001b[0m\u001b[1;33m=\u001b[0m\u001b[0mescapechar\u001b[0m\u001b[1;33m,\u001b[0m\u001b[1;33m\u001b[0m\u001b[0m\n\u001b[0;32m   1188\u001b[0m                                      decimal=decimal)\n\u001b[1;32m-> 1189\u001b[1;33m         \u001b[0mformatter\u001b[0m\u001b[1;33m.\u001b[0m\u001b[0msave\u001b[0m\u001b[1;33m(\u001b[0m\u001b[1;33m)\u001b[0m\u001b[1;33m\u001b[0m\u001b[0m\n\u001b[0m\u001b[0;32m   1190\u001b[0m \u001b[1;33m\u001b[0m\u001b[0m\n\u001b[0;32m   1191\u001b[0m         \u001b[1;32mif\u001b[0m \u001b[0mpath_or_buf\u001b[0m \u001b[1;32mis\u001b[0m \u001b[0mNone\u001b[0m\u001b[1;33m:\u001b[0m\u001b[1;33m\u001b[0m\u001b[0m\n",
      "\u001b[1;32m/home/kjoseph/anaconda/lib/python2.7/site-packages/pandas/core/format.pyc\u001b[0m in \u001b[0;36msave\u001b[1;34m(self)\u001b[0m\n\u001b[0;32m   1465\u001b[0m \u001b[1;33m\u001b[0m\u001b[0m\n\u001b[0;32m   1466\u001b[0m             \u001b[1;32melse\u001b[0m\u001b[1;33m:\u001b[0m\u001b[1;33m\u001b[0m\u001b[0m\n\u001b[1;32m-> 1467\u001b[1;33m                 \u001b[0mself\u001b[0m\u001b[1;33m.\u001b[0m\u001b[0m_save\u001b[0m\u001b[1;33m(\u001b[0m\u001b[1;33m)\u001b[0m\u001b[1;33m\u001b[0m\u001b[0m\n\u001b[0m\u001b[0;32m   1468\u001b[0m \u001b[1;33m\u001b[0m\u001b[0m\n\u001b[0;32m   1469\u001b[0m         \u001b[1;32mfinally\u001b[0m\u001b[1;33m:\u001b[0m\u001b[1;33m\u001b[0m\u001b[0m\n",
      "\u001b[1;32m/home/kjoseph/anaconda/lib/python2.7/site-packages/pandas/core/format.pyc\u001b[0m in \u001b[0;36m_save\u001b[1;34m(self)\u001b[0m\n\u001b[0;32m   1565\u001b[0m                 \u001b[1;32mbreak\u001b[0m\u001b[1;33m\u001b[0m\u001b[0m\n\u001b[0;32m   1566\u001b[0m \u001b[1;33m\u001b[0m\u001b[0m\n\u001b[1;32m-> 1567\u001b[1;33m             \u001b[0mself\u001b[0m\u001b[1;33m.\u001b[0m\u001b[0m_save_chunk\u001b[0m\u001b[1;33m(\u001b[0m\u001b[0mstart_i\u001b[0m\u001b[1;33m,\u001b[0m \u001b[0mend_i\u001b[0m\u001b[1;33m)\u001b[0m\u001b[1;33m\u001b[0m\u001b[0m\n\u001b[0m\u001b[0;32m   1568\u001b[0m \u001b[1;33m\u001b[0m\u001b[0m\n\u001b[0;32m   1569\u001b[0m     \u001b[1;32mdef\u001b[0m \u001b[0m_save_chunk\u001b[0m\u001b[1;33m(\u001b[0m\u001b[0mself\u001b[0m\u001b[1;33m,\u001b[0m \u001b[0mstart_i\u001b[0m\u001b[1;33m,\u001b[0m \u001b[0mend_i\u001b[0m\u001b[1;33m)\u001b[0m\u001b[1;33m:\u001b[0m\u001b[1;33m\u001b[0m\u001b[0m\n",
      "\u001b[1;32m/home/kjoseph/anaconda/lib/python2.7/site-packages/pandas/core/format.pyc\u001b[0m in \u001b[0;36m_save_chunk\u001b[1;34m(self, start_i, end_i)\u001b[0m\n\u001b[0;32m   1592\u001b[0m                                         quoting=self.quoting)\n\u001b[0;32m   1593\u001b[0m \u001b[1;33m\u001b[0m\u001b[0m\n\u001b[1;32m-> 1594\u001b[1;33m         \u001b[0mlib\u001b[0m\u001b[1;33m.\u001b[0m\u001b[0mwrite_csv_rows\u001b[0m\u001b[1;33m(\u001b[0m\u001b[0mself\u001b[0m\u001b[1;33m.\u001b[0m\u001b[0mdata\u001b[0m\u001b[1;33m,\u001b[0m \u001b[0mix\u001b[0m\u001b[1;33m,\u001b[0m \u001b[0mself\u001b[0m\u001b[1;33m.\u001b[0m\u001b[0mnlevels\u001b[0m\u001b[1;33m,\u001b[0m \u001b[0mself\u001b[0m\u001b[1;33m.\u001b[0m\u001b[0mcols\u001b[0m\u001b[1;33m,\u001b[0m \u001b[0mself\u001b[0m\u001b[1;33m.\u001b[0m\u001b[0mwriter\u001b[0m\u001b[1;33m)\u001b[0m\u001b[1;33m\u001b[0m\u001b[0m\n\u001b[0m\u001b[0;32m   1595\u001b[0m \u001b[1;33m\u001b[0m\u001b[0m\n\u001b[0;32m   1596\u001b[0m \u001b[1;31m# from collections import namedtuple\u001b[0m\u001b[1;33m\u001b[0m\u001b[1;33m\u001b[0m\u001b[0m\n",
      "\u001b[1;32mpandas/lib.pyx\u001b[0m in \u001b[0;36mpandas.lib.write_csv_rows (pandas/lib.c:17612)\u001b[1;34m()\u001b[0m\n",
      "\u001b[1;31mUnicodeEncodeError\u001b[0m: 'ascii' codec can't encode character u'\\xe9' in position 5: ordinal not in range(128)"
     ]
    }
   ],
   "source": [
    "df = pd.DataFrame(dat)\n",
    "df.columns = ['term','uid','sent']\n",
    "\n",
    "terms_of_interest = set(dictionary.token2id.keys())\n",
    "df = df[df.term.apply(lambda x: x in terms_of_interest)]\n",
    "df['uid'] = df.uid.astype(int)\n",
    "df = df[df.uid.apply(lambda x: x in users_for_lda)]\n"
   ]
  },
  {
   "cell_type": "code",
   "execution_count": 56,
   "metadata": {
    "collapsed": true
   },
   "outputs": [],
   "source": [
    "df.to_csv(\"../analysis/raw_df.csv\",encoding='utf8')"
   ]
  },
  {
   "cell_type": "code",
   "execution_count": 114,
   "metadata": {
    "collapsed": false
   },
   "outputs": [],
   "source": [
    "# check out highest and lowest sentiment words\n",
    "f = df[['term','sent']].groupby(\"term\").sum()\n",
    "f.sort(columns='sent',inplace=True)\n",
    "f = f.reset_index()\n",
    "\n",
    "doc_freq = []\n",
    "for k in dictionary.token2id.keys():\n",
    "    doc_freq.append([k, identities_counter[k]])\n",
    "doc_freq = pd.DataFrame(doc_freq)\n",
    "doc_freq.columns = ['term','n_doc']\n",
    "doc_freq.sort(columns='n_doc',ascending=False, inplace=True)\n",
    "f = pd.merge(f, doc_freq, left_on='term',right_on='term')\n",
    "f['sent_per_doc'] = f.sent/f.n_doc\n",
    "f.sort(columns='sent_per_doc',inplace=True)\n"
   ]
  },
  {
   "cell_type": "code",
   "execution_count": 116,
   "metadata": {
    "collapsed": false
   },
   "outputs": [
    {
     "data": {
      "text/html": [
       "<div>\n",
       "<table border=\"1\" class=\"dataframe\">\n",
       "  <thead>\n",
       "    <tr style=\"text-align: right;\">\n",
       "      <th></th>\n",
       "      <th>term</th>\n",
       "      <th>sent</th>\n",
       "      <th>n_doc</th>\n",
       "      <th>sent_per_doc</th>\n",
       "    </tr>\n",
       "  </thead>\n",
       "  <tbody>\n",
       "    <tr>\n",
       "      <th>386</th>\n",
       "      <td>bitch_bitch</td>\n",
       "      <td>-100.9976</td>\n",
       "      <td>149</td>\n",
       "      <td>-0.677836</td>\n",
       "    </tr>\n",
       "    <tr>\n",
       "      <th>434</th>\n",
       "      <td>hater_nigga</td>\n",
       "      <td>-81.2768</td>\n",
       "      <td>125</td>\n",
       "      <td>-0.650214</td>\n",
       "    </tr>\n",
       "    <tr>\n",
       "      <th>332</th>\n",
       "      <td>rape</td>\n",
       "      <td>-132.3976</td>\n",
       "      <td>213</td>\n",
       "      <td>-0.621585</td>\n",
       "    </tr>\n",
       "    <tr>\n",
       "      <th>388</th>\n",
       "      <td>white_criminal</td>\n",
       "      <td>-100.6194</td>\n",
       "      <td>176</td>\n",
       "      <td>-0.571701</td>\n",
       "    </tr>\n",
       "    <tr>\n",
       "      <th>394</th>\n",
       "      <td>black_criminal</td>\n",
       "      <td>-98.5218</td>\n",
       "      <td>173</td>\n",
       "      <td>-0.569490</td>\n",
       "    </tr>\n",
       "    <tr>\n",
       "      <th>185</th>\n",
       "      <td>nigga_bitch</td>\n",
       "      <td>-422.5157</td>\n",
       "      <td>744</td>\n",
       "      <td>-0.567897</td>\n",
       "    </tr>\n",
       "    <tr>\n",
       "      <th>199</th>\n",
       "      <td>cop_killer</td>\n",
       "      <td>-375.0204</td>\n",
       "      <td>663</td>\n",
       "      <td>-0.565642</td>\n",
       "    </tr>\n",
       "    <tr>\n",
       "      <th>478</th>\n",
       "      <td>animal_abuser</td>\n",
       "      <td>-70.6499</td>\n",
       "      <td>125</td>\n",
       "      <td>-0.565199</td>\n",
       "    </tr>\n",
       "    <tr>\n",
       "      <th>216</th>\n",
       "      <td>woman_bitch</td>\n",
       "      <td>-323.1013</td>\n",
       "      <td>592</td>\n",
       "      <td>-0.545779</td>\n",
       "    </tr>\n",
       "    <tr>\n",
       "      <th>217</th>\n",
       "      <td>child_abuser</td>\n",
       "      <td>-313.6885</td>\n",
       "      <td>582</td>\n",
       "      <td>-0.538984</td>\n",
       "    </tr>\n",
       "  </tbody>\n",
       "</table>\n",
       "</div>"
      ],
      "text/plain": [
       "               term      sent  n_doc  sent_per_doc\n",
       "386     bitch_bitch -100.9976    149     -0.677836\n",
       "434     hater_nigga  -81.2768    125     -0.650214\n",
       "332            rape -132.3976    213     -0.621585\n",
       "388  white_criminal -100.6194    176     -0.571701\n",
       "394  black_criminal  -98.5218    173     -0.569490\n",
       "185     nigga_bitch -422.5157    744     -0.567897\n",
       "199      cop_killer -375.0204    663     -0.565642\n",
       "478   animal_abuser  -70.6499    125     -0.565199\n",
       "216     woman_bitch -323.1013    592     -0.545779\n",
       "217    child_abuser -313.6885    582     -0.538984"
      ]
     },
     "execution_count": 116,
     "metadata": {},
     "output_type": "execute_result"
    }
   ],
   "source": [
    "f.head(10)"
   ]
  },
  {
   "cell_type": "code",
   "execution_count": 120,
   "metadata": {
    "collapsed": true
   },
   "outputs": [],
   "source": [
    "z = df.pivot(\"term\",\"uid\",\"sent\").fillna(0)\n",
    "\n",
    "from sklearn.preprocessing import scale\n",
    "term_to_u_mat = z.values\n",
    "term_to_u_mat = scale(term_to_u_mat,1)\n",
    "term_to_u_mat = scale(term_to_u_mat)"
   ]
  },
  {
   "cell_type": "code",
   "execution_count": 122,
   "metadata": {
    "collapsed": false
   },
   "outputs": [],
   "source": [
    "from sklearn.random_projection import SparseRandomProjection\n",
    "from sklearn.manifold import TSNE\n",
    "from sklearn.decomposition import PCA, FastICA\n",
    "import sklearn.mixture as mixture\n",
    "\n",
    "sp = SparseRandomProjection(n_components = 500)\n",
    "X = sp.fit_transform(term_to_u_mat)\n",
    "mixed = mixture.VBGMM(n_components=30, covariance_type='diag', n_iter=100)\n",
    "fitted = mixed.fit(X)\n"
   ]
  },
  {
   "cell_type": "code",
   "execution_count": 123,
   "metadata": {
    "collapsed": false
   },
   "outputs": [
    {
     "data": {
      "text/plain": [
       "30"
      ]
     },
     "execution_count": 123,
     "metadata": {},
     "output_type": "execute_result"
    }
   ],
   "source": [
    "fitted.n_components"
   ]
  },
  {
   "cell_type": "code",
   "execution_count": 124,
   "metadata": {
    "collapsed": true
   },
   "outputs": [],
   "source": [
    "r = fitted.predict_proba(X)"
   ]
  },
  {
   "cell_type": "code",
   "execution_count": 125,
   "metadata": {
    "collapsed": false
   },
   "outputs": [],
   "source": [
    "aff_clust_dat = []\n",
    "for i in range(r.shape[0]):\n",
    "    aff_clust_dat.append([z.index[i], r[i].argmax(), r[i].max()])\n",
    "\n",
    "aff_clust = pd.DataFrame(aff_clust_dat)"
   ]
  },
  {
   "cell_type": "code",
   "execution_count": 126,
   "metadata": {
    "collapsed": false
   },
   "outputs": [],
   "source": [
    "aff_clust.columns = ['term','cluster','prob']"
   ]
  },
  {
   "cell_type": "code",
   "execution_count": 127,
   "metadata": {
    "collapsed": true
   },
   "outputs": [],
   "source": [
    "aff_clust.sort('prob',inplace=True)"
   ]
  },
  {
   "cell_type": "code",
   "execution_count": 130,
   "metadata": {
    "collapsed": false
   },
   "outputs": [
    {
     "data": {
      "text/html": [
       "<div>\n",
       "<table border=\"1\" class=\"dataframe\">\n",
       "  <thead>\n",
       "    <tr style=\"text-align: right;\">\n",
       "      <th></th>\n",
       "      <th>term</th>\n",
       "      <th>cluster</th>\n",
       "      <th>prob</th>\n",
       "    </tr>\n",
       "  </thead>\n",
       "  <tbody>\n",
       "    <tr>\n",
       "      <th>81</th>\n",
       "      <td>afrikaner</td>\n",
       "      <td>28</td>\n",
       "      <td>0.999997</td>\n",
       "    </tr>\n",
       "    <tr>\n",
       "      <th>2549</th>\n",
       "      <td>mistres</td>\n",
       "      <td>28</td>\n",
       "      <td>0.999997</td>\n",
       "    </tr>\n",
       "    <tr>\n",
       "      <th>489</th>\n",
       "      <td>bonafide</td>\n",
       "      <td>28</td>\n",
       "      <td>0.999997</td>\n",
       "    </tr>\n",
       "    <tr>\n",
       "      <th>3680</th>\n",
       "      <td>spotter</td>\n",
       "      <td>21</td>\n",
       "      <td>0.999997</td>\n",
       "    </tr>\n",
       "    <tr>\n",
       "      <th>3037</th>\n",
       "      <td>politico</td>\n",
       "      <td>28</td>\n",
       "      <td>0.999997</td>\n",
       "    </tr>\n",
       "    <tr>\n",
       "      <th>3987</th>\n",
       "      <td>underclassman</td>\n",
       "      <td>10</td>\n",
       "      <td>0.999997</td>\n",
       "    </tr>\n",
       "    <tr>\n",
       "      <th>2260</th>\n",
       "      <td>liberal_journalist</td>\n",
       "      <td>28</td>\n",
       "      <td>0.999997</td>\n",
       "    </tr>\n",
       "    <tr>\n",
       "      <th>1986</th>\n",
       "      <td>immigrant_kid</td>\n",
       "      <td>16</td>\n",
       "      <td>0.999997</td>\n",
       "    </tr>\n",
       "    <tr>\n",
       "      <th>2522</th>\n",
       "      <td>miner_daughter</td>\n",
       "      <td>28</td>\n",
       "      <td>0.999997</td>\n",
       "    </tr>\n",
       "    <tr>\n",
       "      <th>2519</th>\n",
       "      <td>minded</td>\n",
       "      <td>20</td>\n",
       "      <td>0.999997</td>\n",
       "    </tr>\n",
       "    <tr>\n",
       "      <th>2119</th>\n",
       "      <td>junior</td>\n",
       "      <td>10</td>\n",
       "      <td>0.999997</td>\n",
       "    </tr>\n",
       "    <tr>\n",
       "      <th>1406</th>\n",
       "      <td>fellow_veteran</td>\n",
       "      <td>28</td>\n",
       "      <td>0.999997</td>\n",
       "    </tr>\n",
       "    <tr>\n",
       "      <th>2514</th>\n",
       "      <td>millennial</td>\n",
       "      <td>5</td>\n",
       "      <td>0.999997</td>\n",
       "    </tr>\n",
       "    <tr>\n",
       "      <th>717</th>\n",
       "      <td>child_rapist</td>\n",
       "      <td>28</td>\n",
       "      <td>0.999997</td>\n",
       "    </tr>\n",
       "    <tr>\n",
       "      <th>1402</th>\n",
       "      <td>fellow_texan</td>\n",
       "      <td>28</td>\n",
       "      <td>0.999997</td>\n",
       "    </tr>\n",
       "    <tr>\n",
       "      <th>1793</th>\n",
       "      <td>haitian</td>\n",
       "      <td>29</td>\n",
       "      <td>0.999997</td>\n",
       "    </tr>\n",
       "    <tr>\n",
       "      <th>2499</th>\n",
       "      <td>migo</td>\n",
       "      <td>10</td>\n",
       "      <td>0.999997</td>\n",
       "    </tr>\n",
       "    <tr>\n",
       "      <th>1984</th>\n",
       "      <td>immigrant</td>\n",
       "      <td>28</td>\n",
       "      <td>0.999997</td>\n",
       "    </tr>\n",
       "    <tr>\n",
       "      <th>1430</th>\n",
       "      <td>female_customer</td>\n",
       "      <td>28</td>\n",
       "      <td>0.999997</td>\n",
       "    </tr>\n",
       "    <tr>\n",
       "      <th>3889</th>\n",
       "      <td>thottie</td>\n",
       "      <td>10</td>\n",
       "      <td>0.999997</td>\n",
       "    </tr>\n",
       "  </tbody>\n",
       "</table>\n",
       "</div>"
      ],
      "text/plain": [
       "                    term  cluster      prob\n",
       "81             afrikaner       28  0.999997\n",
       "2549             mistres       28  0.999997\n",
       "489             bonafide       28  0.999997\n",
       "3680             spotter       21  0.999997\n",
       "3037            politico       28  0.999997\n",
       "3987       underclassman       10  0.999997\n",
       "2260  liberal_journalist       28  0.999997\n",
       "1986       immigrant_kid       16  0.999997\n",
       "2522      miner_daughter       28  0.999997\n",
       "2519              minded       20  0.999997\n",
       "2119              junior       10  0.999997\n",
       "1406      fellow_veteran       28  0.999997\n",
       "2514          millennial        5  0.999997\n",
       "717         child_rapist       28  0.999997\n",
       "1402        fellow_texan       28  0.999997\n",
       "1793             haitian       29  0.999997\n",
       "2499                migo       10  0.999997\n",
       "1984           immigrant       28  0.999997\n",
       "1430     female_customer       28  0.999997\n",
       "3889             thottie       10  0.999997"
      ]
     },
     "execution_count": 130,
     "metadata": {},
     "output_type": "execute_result"
    }
   ],
   "source": [
    "aff_clust.tail(20)"
   ]
  },
  {
   "cell_type": "code",
   "execution_count": 131,
   "metadata": {
    "collapsed": false
   },
   "outputs": [],
   "source": [
    "aff_clust.to_csv(\"../python/results/affect_clustering.csv\",encoding='utf8')"
   ]
  },
  {
   "cell_type": "code",
   "execution_count": 117,
   "metadata": {
    "collapsed": false
   },
   "outputs": [],
   "source": [
    "f.to_csv(\"../python/results/affect_scores.csv\",encoding='utf8')"
   ]
  },
  {
   "cell_type": "code",
   "execution_count": 142,
   "metadata": {
    "collapsed": false
   },
   "outputs": [],
   "source": [
    "w2top = {x.strip().split()[0]:x.strip().split()[1] for x in open(\"results/word2topic.tsv\")}"
   ]
  },
  {
   "cell_type": "code",
   "execution_count": 224,
   "metadata": {
    "collapsed": false
   },
   "outputs": [],
   "source": [
    "from math import floor\n",
    "identities_of_interest = {'victim','officer','police_officer','protester',\n",
    "                          'victim','juror','teen', 'prosecutor',\n",
    "                          'lawyer','attorney','reporter','journalist','murderer','judge',\n",
    "                         'nigga','mayor','driver','nigger','negro','racist',\"cop\",\"pig\",\n",
    "                         \"black\",\"white\"}\n",
    "def get_word_to_date_count(line):\n",
    "    objs = [dpo.DependencyParseObject(l,do_lemmatize=False) for l in line]\n",
    "    date = objs[0].is_reply\n",
    "    uid = objs[0].dataset\n",
    "    \n",
    "    if int(date.split(\"-\")[2]) < 13:\n",
    "        return []\n",
    "\n",
    "    identities = [o for o in objs if o.label == \"Identity\"]\n",
    "    i = 0\n",
    "    \n",
    "    ids = []\n",
    "    heads = []\n",
    "    \n",
    "    while i < len(identities):\n",
    "        text = get_cleaned_text(identities[i].singular_form.lower()).replace(\"#\",\"\")\n",
    "        head = ''\n",
    "        if identities[i].head > 0:\n",
    "            head = objs[identities[i].head-1].text + \"_\" + objs[identities[i].head-1].postag\n",
    "        if i < len(identities)-1 and identities[i+1].id == identities[i].id+1:\n",
    "            tmp_txt = text + \"_\" + get_cleaned_text(identities[i+1].singular_form.lower()).replace(\"#\",\"\")\n",
    "            if tmp_txt in identities_of_interest:\n",
    "                text = tmp_txt\n",
    "                i+=1\n",
    "                if identities[i].head > 0:\n",
    "                    head = objs[identities[i].head-1].text + \"_\" + objs[identities[i].head-1].postag   \n",
    "        ids.append(text)\n",
    "        heads.append(head)\n",
    "        \n",
    "        i +=1\n",
    "        \n",
    "        \n",
    "    if not len(set(ids) & identities_of_interest):\n",
    "        return []\n",
    "    \n",
    "    head2 = []\n",
    "    for h in heads:\n",
    "        try:\n",
    "            h.encode('ascii')\n",
    "            head2.append(h)\n",
    "        except:\n",
    "            head2.append('')\n",
    "    \n",
    "    text = \" \".join([l.split(\"\\t\")[1] for l in line])\n",
    "    sent = sentiment(text)['compound']\n",
    "    d_spl = date.split(\"-\")\n",
    "    wk = int(floor(float(d_spl[1]) / 15))\n",
    "    if wk > 1:\n",
    "        wk = 1\n",
    "    day = str((wk * 15)+1)\n",
    "    date_ret = \"-\".join([d_spl[0],day,d_spl[2]])\n",
    "    return [ (date_ret, x, head2[i], sent, uid) for i,x in enumerate(ids) if x in identities_of_interest]\n",
    "\n",
    "\n",
    "# for x in read_grouped_by_newline_file(all_files[40]):\n",
    "#     z =  get_word_to_date_count(x)\n",
    "#     if len(z):\n",
    "#         print '\\t', z\n",
    "date_info = only_identity_tweets.flatMap(get_word_to_date_count).collect()\n"
   ]
  },
  {
   "cell_type": "code",
   "execution_count": null,
   "metadata": {
    "collapsed": true
   },
   "outputs": [],
   "source": [
    "tweet_i"
   ]
  },
  {
   "cell_type": "code",
   "execution_count": 178,
   "metadata": {
    "collapsed": false
   },
   "outputs": [
    {
     "name": "stdout",
     "output_type": "stream",
     "text": [
      "n geotagged users:  73040\n"
     ]
    }
   ],
   "source": [
    "full_loc_dat = get_loc_data()\n",
    "geo_tagged_uids = set([int(x) for x in full_loc_dat.uid.tolist()])"
   ]
  },
  {
   "cell_type": "code",
   "execution_count": 235,
   "metadata": {
    "collapsed": false
   },
   "outputs": [
    {
     "data": {
      "text/plain": [
       "(u'09-16-14', u'victim', u'cry_V', -0.8176, u'636262914')"
      ]
     },
     "execution_count": 235,
     "metadata": {},
     "output_type": "execute_result"
    }
   ],
   "source": [
    "date_info[1]"
   ]
  },
  {
   "cell_type": "code",
   "execution_count": 192,
   "metadata": {
    "collapsed": false
   },
   "outputs": [],
   "source": [
    "from collections import Counter, defaultdict\n",
    "blah = defaultdict(lambda: defaultdict(Counter))\n",
    "z = defaultdict(lambda:defaultdict(Counter))\n",
    "for x in date_info:\n",
    "    blah[x[3]][x[1]][x[0]] += x[2]\n",
    "    z[x[3]][x[1]][x[0]] += 1\n",
    "    \n",
    "time_dat = []\n",
    "for user,word_date_count in blah.items():\n",
    "    for word, date_count in word_date_count.items():\n",
    "        for date, count in date_count.items():\n",
    "            date_split = date.split(\"-\")\n",
    "            year = date_split[2]\n",
    "            month = date_split[0]\n",
    "            day = int(date_split[1])\n",
    "            if day > 1:\n",
    "                day = 1\n",
    "            day = str(day * 15)\n",
    "            time_dat.append([user,word,\"-\".join([month,day,year]),count,z[user][word][date]])\n",
    "\n",
    "time_df = pd.DataFrame(time_dat)\n",
    "time_df.to_csv(\"../python/results/time_sent_user_df.csv\")"
   ]
  },
  {
   "cell_type": "code",
   "execution_count": 234,
   "metadata": {
    "collapsed": false
   },
   "outputs": [
    {
     "data": {
      "text/plain": [
       "143428"
      ]
     },
     "execution_count": 234,
     "metadata": {},
     "output_type": "execute_result"
    }
   ],
   "source": [
    "pdf_data[:,1].sum()"
   ]
  },
  {
   "cell_type": "code",
   "execution_count": 171,
   "metadata": {
    "collapsed": false
   },
   "outputs": [],
   "source": []
  },
  {
   "cell_type": "code",
   "execution_count": 172,
   "metadata": {
    "collapsed": true
   },
   "outputs": [],
   "source": []
  },
  {
   "cell_type": "code",
   "execution_count": null,
   "metadata": {
    "collapsed": true
   },
   "outputs": [],
   "source": [
    "# ck how affective meanings change\n"
   ]
  }
 ],
 "metadata": {
  "kernelspec": {
   "display_name": "Python 2",
   "language": "python",
   "name": "python2"
  },
  "language_info": {
   "codemirror_mode": {
    "name": "ipython",
    "version": 2
   },
   "file_extension": ".py",
   "mimetype": "text/x-python",
   "name": "python",
   "nbconvert_exporter": "python",
   "pygments_lexer": "ipython2",
   "version": "2.7.10"
  }
 },
 "nbformat": 4,
 "nbformat_minor": 0
}
